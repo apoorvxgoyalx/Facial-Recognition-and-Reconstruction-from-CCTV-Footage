{
 "cells": [
  {
   "cell_type": "markdown",
   "id": "c435fcb0",
   "metadata": {},
   "source": [
    "# Facial Recognition, Enhancement, and Reconstruction from CCTV Footage"
   ]
  },
  {
   "cell_type": "markdown",
   "id": "e3dcc543",
   "metadata": {},
   "source": [
    "## Overview"
   ]
  },
  {
   "cell_type": "markdown",
   "id": "7917ccb8",
   "metadata": {},
   "source": [
    "This project tackles a crucial challenge in security and forensic investigations: reconstructing human faces from low-quality CCTV footage. Developed by Apoorv Goyal, Pranay Arora, Mudit Gandhi, and Yaagik Goel, our advanced Machine Learning solution leverages cutting-edge techniques in image super-resolution, computer vision, and 3D facial reconstruction to enhance and rebuild faces from blurry or distorted images."
   ]
  },
  {
   "cell_type": "markdown",
   "id": "584b70b6",
   "metadata": {},
   "source": [
    "## Key Features"
   ]
  },
  {
   "cell_type": "markdown",
   "id": "94120495",
   "metadata": {},
   "source": [
    "- **RealESRGAN & GFPGAN**: Advanced super-resolution techniques for enhancing low-quality images.\n",
    "- **Computer Vision**: Accurate face detection, enhancement, and reconstruction.\n",
    "- **Face Landmarks & Mesh Analysis**: Precise identification and reconstruction of facial features.\n",
    "- **Bounding Box Handling**: Robust facial region detection, even in challenging frames.\n",
    "- **NextFace & 3D Face Reconstruction**: Powerful 3D modeling techniques for complete facial reconstruction."
   ]
  },
  {
   "cell_type": "markdown",
   "id": "d4fc4543",
   "metadata": {},
   "source": [
    "## Project Goal"
   ]
  },
  {
   "cell_type": "markdown",
   "id": "c760e976",
   "metadata": {},
   "source": [
    "To develop a tool that aids forensic investigations by reconstructing faces from low-quality footage, enabling faster and more accurate identification of suspects."
   ]
  },
  {
   "cell_type": "markdown",
   "id": "dc7188e4",
   "metadata": {},
   "source": [
    "## Project Repository"
   ]
  },
  {
   "cell_type": "markdown",
   "id": "a70bd1d4",
   "metadata": {},
   "source": [
    "[GitHub - Facial Recognition and Reconstruction](https://github.com/apoorvxgoyalx/Facial-Recognition-and-Reconstruction-from-CCTV-Footage)"
   ]
  },
  {
   "cell_type": "markdown",
   "id": "8dbf04c8",
   "metadata": {},
   "source": [
    "## Installation"
   ]
  },
  {
   "cell_type": "markdown",
   "id": "5d07f6bc",
   "metadata": {},
   "source": [
    "This project uses two separate repositories that need to be run in different Python environments."
   ]
  },
  {
   "cell_type": "markdown",
   "id": "f0bb6367",
   "metadata": {},
   "source": [
    "### Environment 1: Face Reconstruction (faceRecon)"
   ]
  },
  {
   "cell_type": "markdown",
   "id": "b7e41488",
   "metadata": {},
   "source": [
    "Clone the repository:"
   ]
  },
  {
   "cell_type": "code",
   "execution_count": null,
   "id": "a126aa1a",
   "metadata": {},
   "outputs": [],
   "source": [
    "git clone https://github.com/apoorvxgoyalx/Facial-Recognition-and-Reconstruction-from-CCTV-Footage.git\n",
    "cd Facial-Recognition-and-Reconstruction-from-CCTV-Footage/faceRecon\n",
    "conda create --name faceenhance python=3.10\n",
    "conda activate faceenhance\n",
    "pip install -r requirements.txt"
   ]
  },
  {
   "cell_type": "markdown",
   "id": "27271dc5",
   "metadata": {},
   "source": [
    "### Environment 2: Face Enhancement (faceEnhance)"
   ]
  },
  {
   "cell_type": "markdown",
   "id": "7ed21fc6",
   "metadata": {},
   "source": [
    "Make sure you're using Python 3.10 for this environment."
   ]
  },
  {
   "cell_type": "code",
   "execution_count": null,
   "id": "0bb3886c",
   "metadata": {},
   "outputs": [],
   "source": [
    "cd..\n",
    "cd Facial-Recognition-and-Reconstruction-from-CCTV-Footage/faceEnhance"
   ]
  },
  {
   "cell_type": "code",
   "execution_count": null,
   "id": "80cd2909",
   "metadata": {},
   "outputs": [],
   "source": [
    "\n",
    "conda create --name faceNext python=3.6.7\n",
    "conda activate faceNext\n",
    "conda install pytorch==1.3.1 torchvision==0.4.2 cudatoolkit=10.1 -c pytorch\n",
    "pip install redner-gpu\n",
    "conda install -c conda-forge opencv\n",
    "conda install -c 1adrianb face_alignment=1.2.0\n",
    "conda install -c anaconda h5py\n",
    "pip install mediapipe\n"
   ]
  },
  {
   "cell_type": "markdown",
   "id": "915a834c",
   "metadata": {},
   "source": [
    "### FINAL STEPS"
   ]
  },
  {
   "cell_type": "markdown",
   "id": "ef8c22ae",
   "metadata": {},
   "source": [
    "\n",
    "First run the Face enhance , then run the Face Recon , edit the paths in run_script.py(for enhance) and auto.py(for recon) , make sure to use valid format of input , if you recieve any error , do mail on apoorvgoyal107@gmail.com\n"
   ]
  }
 ],
 "metadata": {
  "language_info": {
   "name": "python"
  }
 },
 "nbformat": 4,
 "nbformat_minor": 5
}
